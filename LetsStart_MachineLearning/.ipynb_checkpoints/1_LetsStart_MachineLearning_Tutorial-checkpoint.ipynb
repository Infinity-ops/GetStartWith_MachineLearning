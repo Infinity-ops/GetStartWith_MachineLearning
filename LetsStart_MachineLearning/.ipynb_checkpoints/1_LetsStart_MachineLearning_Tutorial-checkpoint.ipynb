{
 "cells": [
  {
   "cell_type": "markdown",
   "metadata": {},
   "source": [
    "# BlackBox\n",
    "# 1. Introduction to Machine learning\n",
    "\n",
    "What is Machine Learning?\n",
    "\n",
    "The set of rules (PROGRAM) will predict how to solve the particular problem by learning the logic from various similar problem.\n",
    "\n",
    "Few Examples\n",
    "  * **Spam Mail Detection** (`Input`- mail, `Output`- spam/ham, `Solution`- Supervised ML, Binary Classification problem)\n",
    "  * **Predicting Lift failure** (`Input`- SensorData, `Output`- FailureTime, `Solution`- SuperVised, Regression Problem )\n",
    "  * **Predicting Insurance Amount** (`Input`- Accident Details, `Output`- Insurance amount, `Solutions`- Supervised, Regression Problem)\n",
    "  * **Medical Diagnosis** (`Input`- Patient Synopsis (fever, temperature, bp, etc.,), `Output`- Diagnosis, `Solution`- Supervised, Multi-class Classification Problem)\n",
    "  * **Market Segmentation** (`Input`- CustomerDetails, `Output`- Clusters, `Solution`- Unsupervised, Clustering Problem)\n",
    "  * **Robot Playing Football** (`Input`- Other Player Information, Rewards, `Output`- Action to score, `Solution`- Reinforcement Learning )"
   ]
  },
  {
   "cell_type": "markdown",
   "metadata": {},
   "source": [
    "### Types Of Machine Learning \n",
    "\n",
    "   * Supervised Machine Learning (Task Driven)\n",
    "   * Unsupervised Machine Learning (Data Driven)\n",
    "   * Reinforcement Machine Learning (Environment Driven)"
   ]
  },
  {
   "cell_type": "markdown",
   "metadata": {},
   "source": [
    "# 1.1 Supervised Machine Learning\n",
    "    - Explicit Learning, Data contains bothinput and Output\n",
    "    - Output can be Continous (Regression) or Discrete (Classification)\n",
    "    - Learning algorithms tries to find pattern between input & output during training Phase\n",
    "    - Once the pattern is learned, this can be used for predicting output for given input"
   ]
  },
  {
   "cell_type": "markdown",
   "metadata": {},
   "source": [
    "# 1.2 UnSupervised Machine Learning\n",
    "    - Finding Pattern in input data\n",
    "    - Not output associated\n",
    "    - No correct answer or supervision provided\n",
    "    - Grouping of data(clustering)\n",
    "    - Learning Association Rule(People who bought X also bought Y). `Example:` beer and diaper theory"
   ]
  },
  {
   "cell_type": "markdown",
   "metadata": {},
   "source": [
    "# 1.3 Reinforcement Machine Learning\n",
    "    - Learning from seeing results of action in an environment\n",
    "    - Approach used in AI\n",
    "    - Model tries to improve reward by doing right actions\n",
    "    - Machine learns how to act in a certain environment"
   ]
  },
  {
   "cell_type": "markdown",
   "metadata": {},
   "source": [
    "# 2. Machine Learning Pipeline\n",
    "   * Buisness Understanding\n",
    "   * Data Wrangling\n",
    "   * Data Visualization\n",
    "   * Data Preprocessing\n",
    "   * Model Training\n",
    "   * Model Validation\n",
    "   * Deployment"
   ]
  },
  {
   "cell_type": "markdown",
   "metadata": {},
   "source": [
    "#### Raw_Input\n",
    " `* Text Documents`\n",
    " `* Image files`\n",
    " `* CSV`\n",
    " `* Audio`\n",
    " `* Video`\n",
    " `* Time Series Data`\n",
    "#### what is the input that Machine Learningcan consume?\n",
    " `* Vectors - Fixed Length array of numbers`\n",
    " \n",
    " ## 2.1 Feature Extraction\n",
    " Converting raw input(data from .csv,.txt, etc) into `Vectors`\n",
    " ## 2.2 Learning Algorithm\n",
    " In Pipeline, learning algorithm is used in Model training section. \n",
    "     * Firstly, This algorithm learns the historical input and corresponding output data.\n",
    "     * And then we can use that trained model to predict the ouput for corseponding new input data.\n",
    " ## 2.3 Evaluation of Prediction Function\n",
    "* Finding the best among competing model\n",
    "* Find the best hyper parameters among the same model\n",
    "* If results are not satisfactory, one has to go back in the chain & fix a few things.\n",
    "\n",
    "## 2.4 Deployment\n",
    "  Create a RESTful Interface for customers to use your trained model\n",
    " "
   ]
  }
 ],
 "metadata": {
  "kernelspec": {
   "display_name": "Python 3",
   "language": "python",
   "name": "python3"
  },
  "language_info": {
   "codemirror_mode": {
    "name": "ipython",
    "version": 3
   },
   "file_extension": ".py",
   "mimetype": "text/x-python",
   "name": "python",
   "nbconvert_exporter": "python",
   "pygments_lexer": "ipython3",
   "version": "3.7.3"
  }
 },
 "nbformat": 4,
 "nbformat_minor": 2
}
