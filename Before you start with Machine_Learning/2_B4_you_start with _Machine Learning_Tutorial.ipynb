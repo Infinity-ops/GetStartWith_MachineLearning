{
 "cells": [
  {
   "cell_type": "markdown",
   "metadata": {},
   "source": [
    "# 5. Probability Theory\n",
    "\n",
    "- **Random Numbers**\n",
    "    * Random Numbers are described in various aspects\n",
    "         * Event (Rolling a die {1,2,3,4,5,6 }, Tossing a coin { Head,tail } )\n",
    "         * How random numbers are Distributed based on probability??\n",
    "             - Discrete  {Eg: die, coin}\n",
    "             - Continuous {Eg: temperature, voice}\n",
    "- **Events**\n",
    "    * Each probability Distribution constitutes of event\n",
    "    * Mutually Exclusively Event:\n",
    "            - If x occurs, y doesn't occur{Example: Head and tail, Even and odd }\n",
    "    * Independent Event:\n",
    "            - No correlation {temperature in Japan and temperature in Germany} between the event_1 and event_2.\n",
    "    * Dependent Event:\n",
    "               - Heating kettle, temperature of the kettle increase gradually with time t {teperature of time t2 depends on the temperature of time t1 and so on...}\n",
    "\n",
    "- **Probability**\n",
    "    * Joint Probability: **p(Event_1 ∩ Event_2)**\n",
    "            - Product of two individual independent event.{How likely both events occur together}\n",
    "    * Conditional Probability: **p(Event_1 | Event_2)**\n",
    "            - How likely you know event_2 will occur in condition you already aware of event_1.\n",
    " "
   ]
  },
  {
   "cell_type": "markdown",
   "metadata": {},
   "source": [
    "# 6. Analyze Dataset\n",
    "Dataset : Height-weight Dataset"
   ]
  },
  {
   "cell_type": "code",
   "execution_count": 2,
   "metadata": {},
   "outputs": [],
   "source": [
    "import pandas as pd"
   ]
  },
  {
   "cell_type": "code",
   "execution_count": 4,
   "metadata": {
    "scrolled": true
   },
   "outputs": [],
   "source": [
    "df = pd.read_csv(\"/home/nari/Desktop/MY STUFFS/PYTHON/GetStartWith_MachineLearning/Datasets/weight-height.csv\")"
   ]
  },
  {
   "cell_type": "code",
   "execution_count": 5,
   "metadata": {
    "scrolled": true
   },
   "outputs": [
    {
     "data": {
      "text/html": [
       "<div>\n",
       "<style scoped>\n",
       "    .dataframe tbody tr th:only-of-type {\n",
       "        vertical-align: middle;\n",
       "    }\n",
       "\n",
       "    .dataframe tbody tr th {\n",
       "        vertical-align: top;\n",
       "    }\n",
       "\n",
       "    .dataframe thead th {\n",
       "        text-align: right;\n",
       "    }\n",
       "</style>\n",
       "<table border=\"1\" class=\"dataframe\">\n",
       "  <thead>\n",
       "    <tr style=\"text-align: right;\">\n",
       "      <th></th>\n",
       "      <th>Gender</th>\n",
       "      <th>Height</th>\n",
       "      <th>Weight</th>\n",
       "    </tr>\n",
       "  </thead>\n",
       "  <tbody>\n",
       "    <tr>\n",
       "      <th>0</th>\n",
       "      <td>Male</td>\n",
       "      <td>73.847017</td>\n",
       "      <td>241.893563</td>\n",
       "    </tr>\n",
       "    <tr>\n",
       "      <th>1</th>\n",
       "      <td>Male</td>\n",
       "      <td>68.781904</td>\n",
       "      <td>162.310473</td>\n",
       "    </tr>\n",
       "    <tr>\n",
       "      <th>2</th>\n",
       "      <td>Male</td>\n",
       "      <td>74.110105</td>\n",
       "      <td>212.740856</td>\n",
       "    </tr>\n",
       "    <tr>\n",
       "      <th>3</th>\n",
       "      <td>Male</td>\n",
       "      <td>71.730978</td>\n",
       "      <td>220.042470</td>\n",
       "    </tr>\n",
       "    <tr>\n",
       "      <th>4</th>\n",
       "      <td>Male</td>\n",
       "      <td>69.881796</td>\n",
       "      <td>206.349801</td>\n",
       "    </tr>\n",
       "  </tbody>\n",
       "</table>\n",
       "</div>"
      ],
      "text/plain": [
       "  Gender     Height      Weight\n",
       "0   Male  73.847017  241.893563\n",
       "1   Male  68.781904  162.310473\n",
       "2   Male  74.110105  212.740856\n",
       "3   Male  71.730978  220.042470\n",
       "4   Male  69.881796  206.349801"
      ]
     },
     "execution_count": 5,
     "metadata": {},
     "output_type": "execute_result"
    }
   ],
   "source": [
    "df.head() # it will show the first five feature vectors"
   ]
  },
  {
   "cell_type": "code",
   "execution_count": 8,
   "metadata": {},
   "outputs": [],
   "source": [
    "import numpy as np\n",
    "\n",
    "height = np.array(df['Height']) \n",
    "weight = np.array(df['Weight'])\n",
    "\n",
    "## Note: To convert pandas series to numpy array use np.array(pandas serie)"
   ]
  },
  {
   "cell_type": "code",
   "execution_count": 10,
   "metadata": {
    "scrolled": false
   },
   "outputs": [
    {
     "data": {
      "text/plain": [
       "(array([  23.,  218.,  926., 1906., 2196., 2167., 1612.,  765.,  163.,\n",
       "          24.]),\n",
       " array([54.26313333, 56.73669423, 59.21025513, 61.68381603, 64.15737693,\n",
       "        66.63093784, 69.10449874, 71.57805964, 74.05162054, 76.52518144,\n",
       "        78.99874235]),\n",
       " <a list of 10 Patch objects>)"
      ]
     },
     "execution_count": 10,
     "metadata": {},
     "output_type": "execute_result"
    },
    {
     "data": {
      "image/png": "[encoded data removed]",
      "text/plain": [
       "<Figure size 432x288 with 1 Axes>"
      ]
     },
     "metadata": {
      "needs_background": "light"
     },
     "output_type": "display_data"
    }
   ],
   "source": [
    "import matplotlib.pyplot as plt\n",
    "plt.hist(height)"
   ]
  },
  {
   "cell_type": "code",
   "execution_count": 12,
   "metadata": {},
   "outputs": [
    {
     "name": "stdout",
     "output_type": "stream",
     "text": [
      "66.36755975482124 161.44035683283076\n"
     ]
    }
   ],
   "source": [
    "# Important Statistical quantity 1: mean\n",
    "mean_h = np.mean(height)\n",
    "mean_w = np.mean(weight)\n",
    "print(mean_h, mean_w)"
   ]
  },
  {
   "cell_type": "code",
   "execution_count": 13,
   "metadata": {},
   "outputs": [
    {
     "name": "stdout",
     "output_type": "stream",
     "text": [
      "3.8473357395575394 32.106833544431716\n"
     ]
    }
   ],
   "source": [
    "# Important Statistical quantity 2: Standard Deviation\n",
    "std_h = np.std(height)\n",
    "std_w = np.std(weight)\n",
    "print(std_h, std_w)"
   ]
  },
  {
   "cell_type": "markdown",
   "metadata": {},
   "source": [
    "##### Note: Six Sigma Rule\n",
    "By using mean and stanard_deviation, we can check whether the data is following the Gaussian distribution or not...\n",
    "The way to check this we use the **Six Sigma Rule**\n",
    "  * This rule decribes all the data in datset will hover around `mean + 3 (stanard_deviation)` and `mean - 3 (stanard_deviation)`\n",
    "  \n",
    "  {you can cross check this one with your Histogram plot}"
   ]
  },
  {
   "attachments": {
    "image.png": {
     "image/png": "[encoded data removed]"
    }
   },
   "cell_type": "markdown",
   "metadata": {},
   "source": [
    "### Gaussian/ Normal Distribution\n",
    "\n",
    "\n",
    "![image.png](attachment:image.png)"
   ]
  },
  {
   "cell_type": "code",
   "execution_count": 16,
   "metadata": {},
   "outputs": [],
   "source": [
    "# Hack to Generate fake data\n",
    "fakeheightdata = np.random.normal(66,3.8, (5000))\n",
    "fakeweightdata = np.random.normal(161,32, (5000))"
   ]
  },
  {
   "cell_type": "code",
   "execution_count": 17,
   "metadata": {
    "scrolled": true
   },
   "outputs": [
    {
     "data": {
      "text/plain": [
       "(array([  14.,   96.,  321.,  776., 1309., 1264.,  822.,  300.,   82.,\n",
       "          16.]),\n",
       " array([52.76878082, 55.40371786, 58.03865489, 60.67359193, 63.30852896,\n",
       "        65.943466  , 68.57840304, 71.21334007, 73.84827711, 76.48321414,\n",
       "        79.11815118]),\n",
       " <a list of 10 Patch objects>)"
      ]
     },
     "execution_count": 17,
     "metadata": {},
     "output_type": "execute_result"
    },
    {
     "data": {
      "image/png": "[encoded data removed]",
      "text/plain": [
       "<Figure size 432x288 with 1 Axes>"
      ]
     },
     "metadata": {
      "needs_background": "light"
     },
     "output_type": "display_data"
    }
   ],
   "source": [
    "plt.hist(fakeheightdata)"
   ]
  },
  {
   "cell_type": "markdown",
   "metadata": {},
   "source": [
    "# 7. Introduction to Vectors\n",
    "* Vectors? ==> something which has direction (Eg: velocity)\n",
    "* Used to denote vectors in Cartesian coordinate(x,y) and also polar form(r,θ)\n",
    "* Vector has two component\n",
    "        - Magnitude (Length of the vector)\n",
    "        - Direction (Angle)\n",
    " ==> In case of Numpy everything is vector   "
   ]
  },
  {
   "cell_type": "code",
   "execution_count": null,
   "metadata": {},
   "outputs": [],
   "source": [
    "import numpy as np"
   ]
  },
  {
   "cell_type": "code",
   "execution_count": 19,
   "metadata": {
    "scrolled": true
   },
   "outputs": [
    {
     "data": {
      "text/plain": [
       "1"
      ]
     },
     "execution_count": 19,
     "metadata": {},
     "output_type": "execute_result"
    }
   ],
   "source": [
    "np.array([2,1]).shape"
   ]
  },
  {
   "cell_type": "code",
   "execution_count": null,
   "metadata": {},
   "outputs": [],
   "source": [
    "# Magnitude\n",
    "np.arctan(4/3)"
   ]
  },
  {
   "cell_type": "code",
   "execution_count": 21,
   "metadata": {},
   "outputs": [],
   "source": [
    "# Direction\n",
    "r = 1\n",
    "angle = np.arange(0, 2*np.pi,0.001)"
   ]
  },
  {
   "cell_type": "code",
   "execution_count": 22,
   "metadata": {},
   "outputs": [],
   "source": [
    "x_component = r * np.cos(angle)\n",
    "y_component = r * np.sin(angle)"
   ]
  },
  {
   "cell_type": "code",
   "execution_count": 25,
   "metadata": {},
   "outputs": [
    {
     "data": {
      "text/plain": [
       "[<matplotlib.lines.Line2D at 0x7f562121e4a8>]"
      ]
     },
     "execution_count": 25,
     "metadata": {},
     "output_type": "execute_result"
    },
    {
     "data": {
      "image/png": "[encoded data removed]",
      "text/plain": [
       "<Figure size 432x288 with 1 Axes>"
      ]
     },
     "metadata": {
      "needs_background": "light"
     },
     "output_type": "display_data"
    }
   ],
   "source": [
    "plt.plot(x_component,y_component)"
   ]
  }
 ],
 "metadata": {
  "kernelspec": {
   "display_name": "Python 3",
   "language": "python",
   "name": "python3"
  },
  "language_info": {
   "codemirror_mode": {
    "name": "ipython",
    "version": 3
   },
   "file_extension": ".py",
   "mimetype": "text/x-python",
   "name": "python",
   "nbconvert_exporter": "python",
   "pygments_lexer": "ipython3",
   "version": "3.7.1"
  }
 },
 "nbformat": 4,
 "nbformat_minor": 2
}
