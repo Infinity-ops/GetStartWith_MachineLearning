{
 "cells": [
  {
   "cell_type": "markdown",
   "metadata": {},
   "source": [
    "# 8. Bayesian World\n",
    "Three key terms for Bayesian Analysis...\n",
    "* Likelihood\n",
    "* Posterior\n",
    "* Prior\n",
    "\n",
    "Short Explanation:\n",
    "\n",
    "    - Likelihood - Evaluation  \n",
    "    - evidence - data/ feature vectors\n",
    "\n",
    "     * Advocate is Hypothesis.. Judge is the likelihood.. Evidence is the data \n",
    "     * Judge will evaluate how likely is advocate's hypothesis over evidence\n",
    "     \n",
    " Hypothesis is what type of distribution is it...Gaussian/uniform/etc\n",
    " \n",
    " Lets use same heigh-weight Dataset to evaluate likelihood "
   ]
  },
  {
   "cell_type": "code",
   "execution_count": 53,
   "metadata": {},
   "outputs": [],
   "source": [
    "import pandas as pd\n",
    "import numpy as np\n",
    "import matplotlib.pyplot as plt\n",
    "\n",
    "df = pd.read_csv(\"/home/nari/Desktop/MY STUFFS/PYTHON/GetStartWith_MachineLearning/Datasets/weight-height.csv\")\n",
    "\n",
    "height = np.array(df['Height']) \n",
    "weight = np.array(df['Weight'])\n",
    "\n",
    "# Statistical quantity 1: mean\n",
    "mean_h = np.mean(height)\n",
    "mean_w = np.mean(weight)\n",
    "\n",
    "# Statistical quantity 2: Standard Deviation\n",
    "std_h = np.std(height)\n",
    "std_w = np.std(weight)"
   ]
  },
  {
   "cell_type": "markdown",
   "metadata": {},
   "source": [
    "* Hypothesis No.1 : Data is generated from gausian distribution\n",
    "* Hypothesis No.2 : Data is generated from Uniform Distribution\n",
    "Joint likelihood ==> considering likelihood of all evidence \n",
    "* Find the Product of all indivdual independent evidence for each hypothesis\n",
    "\n"
   ]
  },
  {
   "cell_type": "code",
   "execution_count": 56,
   "metadata": {},
   "outputs": [],
   "source": [
    "def gaussian(x, mean, std):\n",
    "    den = np.sqrt(2*np.pi*std*std)\n",
    "    num = np.exp(-1*(x-mean)*(x-mean)/(2*std*std)) \n",
    "    return num/den\n",
    "\n",
    "def uniform(x,a,b):\n",
    "    \"\"\"\" Data lies between a and b\"\"\"\n",
    "    return (a<x) * (x<b) * (1/(b-a))   \n",
    "\n",
    "def joint_likelihood(x, mean, std):\n",
    "    # Probability that this function generated for x\n",
    "    # Product of all evidences\n",
    "    prod = 1\n",
    "    for pts in x:\n",
    "        prod = prod * func(pts, mean, std)\n",
    "    return prod\n",
    "\n",
    "def multiple_length(x):\n",
    "    # Probability that this function generated for x\n",
    "    # Product of all evidences\n",
    "    prod = 1\n",
    "    for pts in x:\n",
    "        prod = prod * pts\n",
    "    return prod"
   ]
  },
  {
   "cell_type": "markdown",
   "metadata": {},
   "source": [
    "### For Reference: Gaussian Distribution Formula\n",
    "\n",
    "$g(x,\\mu,\\sigma) = \\frac{1}{\\sqrt{2\\pi\\sigma^2}}{e^{-(x-\\mu)^2/2\\sigma^2}}$"
   ]
  },
  {
   "cell_type": "code",
   "execution_count": 46,
   "metadata": {
    "scrolled": true
   },
   "outputs": [
    {
     "data": {
      "text/plain": [
       "<matplotlib.legend.Legend at 0x7f75085094a8>"
      ]
     },
     "execution_count": 46,
     "metadata": {},
     "output_type": "execute_result"
    },
    {
     "data": {
      "image/png": "[encoded data removed]",
      "text/plain": [
       "<Figure size 1080x288 with 1 Axes>"
      ]
     },
     "metadata": {
      "needs_background": "light"
     },
     "output_type": "display_data"
    }
   ],
   "source": [
    "# plot Gaussian\n",
    "x = np.arange(0,100, 0.001)\n",
    "\n",
    "count, bins = np.histogram(df.Height, 50)\n",
    "plt.figure(figsize = (15,4))\n",
    "plt.plot(x, gaussian(x,65,10), c='r', label = \"Gaussian\")\n",
    "plt.plot(x, uniform(x,50,80), c='b', label = \"Uniform\")\n",
    "plt.stem(bins[:-1], count/9000, label = \"Histogram\")\n",
    "plt.legend()"
   ]
  },
  {
   "cell_type": "markdown",
   "metadata": {},
   "source": [
    "## 8.1 Calculating Likelihood\n",
    "Find which Assumption(Hypothesis) is strong?"
   ]
  },
  {
   "cell_type": "code",
   "execution_count": 61,
   "metadata": {},
   "outputs": [
    {
     "name": "stdout",
     "output_type": "stream",
     "text": [
      "5.298359318250433e-143 1.9403252174826306e-148\n"
     ]
    }
   ],
   "source": [
    "likelihood_gaussian = multiple_length(gaussian(df.Height[:100], 67, 10))\n",
    "likelihood_uniform = multiple_length(uniform(df.Height[:100], 50, 80))\n",
    "print(likelihood_gaussian, likelihood_uniform)"
   ]
  },
  {
   "cell_type": "code",
   "execution_count": 62,
   "metadata": {},
   "outputs": [
    {
     "name": "stdout",
     "output_type": "stream",
     "text": [
      "0.9999963378887778 1.940332323195406e-148\n"
     ]
    }
   ],
   "source": [
    "likelihood_gaussian = likelihood_gaussian / (likelihood_gaussian+likelihood_uniform)\n",
    "likelihood_uniform = likelihood_uniform / (likelihood_gaussian+likelihood_uniform)\n",
    "print(likelihood_gaussian, likelihood_uniform)\n",
    "\n",
    "## Note::\n",
    "# which clearly indicates likelihood_gaussian has high score(99%) and won the verdict :)"
   ]
  },
  {
   "cell_type": "markdown",
   "metadata": {},
   "source": [
    "## 8.2 Posterior Estimation"
   ]
  },
  {
   "cell_type": "code",
   "execution_count": 71,
   "metadata": {},
   "outputs": [],
   "source": [
    "male_heights = df[df['Gender'] == 'Male']. Height\n",
    "female_heights = df[df['Gender'] == 'Female']. Height"
   ]
  },
  {
   "cell_type": "code",
   "execution_count": 74,
   "metadata": {
    "scrolled": false
   },
   "outputs": [
    {
     "data": {
      "text/plain": [
       "<matplotlib.legend.Legend at 0x7f75046310f0>"
      ]
     },
     "execution_count": 74,
     "metadata": {},
     "output_type": "execute_result"
    },
    {
     "data": {
      "image/png": "[encoded data removed]",
      "text/plain": [
       "<Figure size 432x288 with 1 Axes>"
      ]
     },
     "metadata": {
      "needs_background": "light"
     },
     "output_type": "display_data"
    }
   ],
   "source": [
    "plt.hist(male_heights, bins = 30, color = 'r', label = 'male')\n",
    "plt.hist(female_heights, bins = 30, color = 'b', label = 'female')\n",
    "plt.legend()"
   ]
  },
  {
   "cell_type": "code",
   "execution_count": 79,
   "metadata": {},
   "outputs": [],
   "source": [
    "# calculate posterior (Evidence is given)\n",
    "male_distribution  = gaussian(male_heights, mean = 69, std=3)\n",
    "female_distribution = gaussian(female_heights, mean = 63.5, std=3)"
   ]
  },
  {
   "cell_type": "code",
   "execution_count": 84,
   "metadata": {},
   "outputs": [
    {
     "name": "stdout",
     "output_type": "stream",
     "text": [
      "0.8793311039877206 0.12066889601227938\n"
     ]
    }
   ],
   "source": [
    "person_height = 63\n",
    "prob_female = gaussian(person_height, mean = 63.5, std=3)\n",
    "prob_male = gaussian(person_height, mean = 69, std=3)\n",
    "total = prob_female + prob_male\n",
    "print(prob_female/total, prob_male/total)"
   ]
  }
 ],
 "metadata": {
  "kernelspec": {
   "display_name": "Python 3",
   "language": "python",
   "name": "python3"
  },
  "language_info": {
   "codemirror_mode": {
    "name": "ipython",
    "version": 3
   },
   "file_extension": ".py",
   "mimetype": "text/x-python",
   "name": "python",
   "nbconvert_exporter": "python",
   "pygments_lexer": "ipython3",
   "version": "3.7.1"
  }
 },
 "nbformat": 4,
 "nbformat_minor": 2
}
